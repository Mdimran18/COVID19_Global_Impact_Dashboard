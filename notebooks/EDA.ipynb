{
 "cells": [
  {
   "cell_type": "markdown",
   "id": "c0d53f8c",
   "metadata": {},
   "source": [
    "# COVID-19 Global Impact Dashboard\n",
    "\n",
    "This notebook performs data preprocessing and exploratory data analysis (EDA) on COVID-19 global data."
   ]
  },
  {
   "cell_type": "code",
   "execution_count": null,
   "id": "e8b3a360",
   "metadata": {},
   "outputs": [],
   "source": [
    "# Import libraries\n",
    "import pandas as pd\n",
    "import numpy as np\n",
    "import matplotlib.pyplot as plt\n",
    "import seaborn as sns\n",
    "\n",
    "# Set visualization style\n",
    "sns.set(style='whitegrid')\n"
   ]
  },
  {
   "cell_type": "code",
   "execution_count": null,
   "id": "64e66ab2",
   "metadata": {},
   "outputs": [],
   "source": [
    "# Load dataset (replace with actual file path)\n",
    "# Example: data/covid_data.csv\n",
    "df = pd.read_csv('data/sample_covid_data.csv')\n",
    "df.head()"
   ]
  },
  {
   "cell_type": "code",
   "execution_count": null,
   "id": "34b1b5d0",
   "metadata": {},
   "outputs": [],
   "source": [
    "# Data info and summary\n",
    "df.info()\n",
    "df.describe()"
   ]
  },
  {
   "cell_type": "code",
   "execution_count": null,
   "id": "f478e57c",
   "metadata": {},
   "outputs": [],
   "source": [
    "# Handle missing values\n",
    "df = df.fillna(method='ffill')  # forward fill\n",
    "df = df.dropna()  # drop rows with remaining missing values"
   ]
  },
  {
   "cell_type": "code",
   "execution_count": null,
   "id": "98874564",
   "metadata": {},
   "outputs": [],
   "source": [
    "# Convert date column to datetime\n",
    "df['date'] = pd.to_datetime(df['date'])"
   ]
  },
  {
   "cell_type": "code",
   "execution_count": null,
   "id": "d324b3ca",
   "metadata": {},
   "outputs": [],
   "source": [
    "# Summary statistics\n",
    "print(df[['new_cases', 'new_deaths', 'total_cases', 'total_deaths']].describe())"
   ]
  },
  {
   "cell_type": "code",
   "execution_count": null,
   "id": "9f805f3e",
   "metadata": {},
   "outputs": [],
   "source": [
    "# Visualizations\n",
    "plt.figure(figsize=(12, 6))\n",
    "sns.lineplot(data=df, x='date', y='new_cases', label='New Cases')\n",
    "sns.lineplot(data=df, x='date', y='new_deaths', label='New Deaths')\n",
    "plt.title('Daily COVID-19 Cases and Deaths')\n",
    "plt.xlabel('Date')\n",
    "plt.ylabel('Count')\n",
    "plt.legend()\n",
    "plt.tight_layout()\n",
    "plt.show()"
   ]
  },
  {
   "cell_type": "code",
   "execution_count": null,
   "id": "6880425f",
   "metadata": {},
   "outputs": [],
   "source": [
    "# Correlation heatmap\n",
    "plt.figure(figsize=(8, 6))\n",
    "sns.heatmap(df[['new_cases', 'new_deaths', 'total_cases', 'total_deaths']].corr(), annot=True, cmap='coolwarm')\n",
    "plt.title('Correlation between Key Variables')\n",
    "plt.show()"
   ]
  },
  {
   "cell_type": "markdown",
   "id": "282e861b",
   "metadata": {},
   "source": [
    "## Country-wise Analysis\n",
    "\n",
    "Compare total cases and deaths across top affected countries."
   ]
  },
  {
   "cell_type": "code",
   "execution_count": null,
   "id": "2a2fa32f",
   "metadata": {},
   "outputs": [],
   "source": [
    "# Top 10 countries with highest total cases\n",
    "top_countries = df.groupby('location')['total_cases'].max().sort_values(ascending=False).head(10).index\n",
    "df_top = df[df['location'].isin(top_countries)]\n",
    "\n",
    "plt.figure(figsize=(14, 7))\n",
    "sns.lineplot(data=df_top, x='date', y='total_cases', hue='location')\n",
    "plt.title('Top 10 Countries by Total COVID-19 Cases Over Time')\n",
    "plt.xlabel('Date')\n",
    "plt.ylabel('Total Cases')\n",
    "plt.legend(title='Country')\n",
    "plt.tight_layout()\n",
    "plt.show()"
   ]
  },
  {
   "cell_type": "markdown",
   "id": "b36a7e17",
   "metadata": {},
   "source": [
    "## Vaccination Analysis\n",
    "\n",
    "Explore vaccination progress globally."
   ]
  },
  {
   "cell_type": "code",
   "execution_count": null,
   "id": "b9f2624f",
   "metadata": {},
   "outputs": [],
   "source": [
    "# Assuming df contains 'total_vaccinations' column\n",
    "if 'total_vaccinations' in df.columns:\n",
    "    plt.figure(figsize=(12, 6))\n",
    "    sns.lineplot(data=df_top, x='date', y='total_vaccinations', hue='location')\n",
    "    plt.title('COVID-19 Vaccinations Over Time in Top Countries')\n",
    "    plt.xlabel('Date')\n",
    "    plt.ylabel('Total Vaccinations')\n",
    "    plt.tight_layout()\n",
    "    plt.show()\n",
    "else:\n",
    "    print(\"Vaccination data not available in the dataset.\")"
   ]
  },
  {
   "cell_type": "markdown",
   "id": "2e1ec4e1",
   "metadata": {},
   "source": [
    "## Conclusion\n",
    "\n",
    "- The analysis highlights the variation in COVID-19 impact across countries.\n",
    "- Effective data cleaning and transformation steps are crucial.\n",
    "- Insights from this analysis will guide the Power BI dashboard design."
   ]
  }
 ],
 "metadata": {},
 "nbformat": 4,
 "nbformat_minor": 5
}
